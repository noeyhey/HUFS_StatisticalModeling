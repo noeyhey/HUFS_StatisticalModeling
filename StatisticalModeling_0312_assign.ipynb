{
  "nbformat": 4,
  "nbformat_minor": 0,
  "metadata": {
    "colab": {
      "provenance": [],
      "collapsed_sections": [
        "QCAH_JYHkm-C"
      ],
      "authorship_tag": "ABX9TyPTIMJ0oW0fBy49bNrvuny8",
      "include_colab_link": true
    },
    "kernelspec": {
      "name": "python3",
      "display_name": "Python 3"
    },
    "language_info": {
      "name": "python"
    }
  },
  "cells": [
    {
      "cell_type": "markdown",
      "metadata": {
        "id": "view-in-github",
        "colab_type": "text"
      },
      "source": [
        "<a href=\"https://colab.research.google.com/github/noeyhey/HUFS_StatisticalModeling/blob/main/StatisticalModeling_0312_assign.ipynb\" target=\"_parent\"><img src=\"https://colab.research.google.com/assets/colab-badge.svg\" alt=\"Open In Colab\"/></a>"
      ]
    },
    {
      "cell_type": "markdown",
      "source": [
        "## **통계모델링 2주차**\n",
        "### 250312\n",
        "### 통계검정"
      ],
      "metadata": {
        "id": "9Z-ruqh9kPjz"
      }
    },
    {
      "cell_type": "markdown",
      "source": [
        "#### 독립 표본 t-test"
      ],
      "metadata": {
        "id": "QCAH_JYHkm-C"
      }
    },
    {
      "cell_type": "markdown",
      "source": [
        "두 개의 독립된 그룹의 점수 비교 (ex: 남학생 vs 여학생 성적)"
      ],
      "metadata": {
        "id": "JQT1zINpnBiG"
      }
    },
    {
      "cell_type": "code",
      "source": [
        "import numpy as np\n",
        "from scipy.stats import ttest_ind\n",
        "\n",
        "np.random.seed(42)\n",
        "group1 = np.random.normal(loc=75, scale=10, size=30)\n",
        "group2 = np.random.normal(loc=80, scale=10, size=30)\n",
        "\n",
        "# 독립 표본 t-검정 수행\n",
        "stat, p = ttest_ind(group1, group2)\n",
        "print(f\"t-통계량: {stat:.3f}\")\n",
        "print(f\"p-value: {p:.3f}\")"
      ],
      "metadata": {
        "colab": {
          "base_uri": "https://localhost:8080/"
        },
        "id": "dK94iM9qnEK9",
        "outputId": "92442cd5-e3a1-4ffc-b826-8978d58e7121"
      },
      "execution_count": null,
      "outputs": [
        {
          "output_type": "stream",
          "name": "stdout",
          "text": [
            "t-통계량: -2.398\n",
            "p-value: 0.020\n"
          ]
        }
      ]
    },
    {
      "cell_type": "markdown",
      "source": [
        "결과 해석"
      ],
      "metadata": {
        "id": "c3iehXSanOIJ"
      }
    },
    {
      "cell_type": "code",
      "source": [
        "if p > 0.05:\n",
        "    print(\"두 그룹 간 평균 차이가 없음 (p > 0.05, 귀무가설 유지)\")\n",
        "else:\n",
        "    print(\"두 그룹 간 평균 차이가 있음 (p < 0.05, 귀무가설 기각)\")"
      ],
      "metadata": {
        "id": "ra95a7SAkuP8",
        "colab": {
          "base_uri": "https://localhost:8080/"
        },
        "outputId": "8f83ed15-d3a2-44ca-e845-01d2e53302a3"
      },
      "execution_count": null,
      "outputs": [
        {
          "output_type": "stream",
          "name": "stdout",
          "text": [
            "두 그룹 간 평균 차이가 있음 (p < 0.05, 귀무가설 기각)\n"
          ]
        }
      ]
    },
    {
      "cell_type": "markdown",
      "source": [
        "#### 대응 표본 t-test"
      ],
      "metadata": {
        "id": "U29fZlIakwx5"
      }
    },
    {
      "cell_type": "markdown",
      "source": [
        "같은 그룹의 전후 점수 비교 (ex: 다이어트 전후 체중)"
      ],
      "metadata": {
        "id": "TVHjoGxznh2T"
      }
    },
    {
      "cell_type": "code",
      "source": [
        "import numpy as np\n",
        "from scipy.stats import ttest_rel\n",
        "\n",
        "np.random.seed(42)\n",
        "before = np.random.normal(loc=75, scale=5, size=30)\n",
        "after = before - np.random.normal(loc=2, scale=1, size=30)\n",
        "\n",
        "# 대응 표본 t-검정 수행\n",
        "stat, p = ttest_rel(before, after)\n",
        "print(f\"t-통계량: {stat:.3f}\")\n",
        "print(f\"p-value: {p:.3f}\")"
      ],
      "metadata": {
        "id": "L3z25PNakzP1",
        "colab": {
          "base_uri": "https://localhost:8080/"
        },
        "outputId": "2a4655a0-6be2-4412-b17c-633245a9a77d"
      },
      "execution_count": null,
      "outputs": [
        {
          "output_type": "stream",
          "name": "stdout",
          "text": [
            "t-통계량: 11.052\n",
            "p-value: 0.000\n"
          ]
        }
      ]
    },
    {
      "cell_type": "markdown",
      "source": [
        "결과 해석"
      ],
      "metadata": {
        "id": "MUupT7XrnpKx"
      }
    },
    {
      "cell_type": "code",
      "source": [
        "if p > 0.05:\n",
        "    print(\"실험 전후 평균 차이가 없음 (p > 0.05, 귀무가설 유지)\")\n",
        "else:\n",
        "    print(\"실험 전후 평균 차이가 있음 (p < 0.05, 귀무가설 기각)\")"
      ],
      "metadata": {
        "colab": {
          "base_uri": "https://localhost:8080/"
        },
        "id": "Rxrq86plnqzi",
        "outputId": "97d1bfdd-1217-42f6-fbf4-30020b19b66f"
      },
      "execution_count": null,
      "outputs": [
        {
          "output_type": "stream",
          "name": "stdout",
          "text": [
            "실험 전후 평균 차이가 있음 (p < 0.05, 귀무가설 기각)\n"
          ]
        }
      ]
    },
    {
      "cell_type": "markdown",
      "source": [
        "#### 분산 분석 f-test"
      ],
      "metadata": {
        "id": "Px51Kw_3kzsQ"
      }
    },
    {
      "cell_type": "markdown",
      "source": [
        "세 개의 브랜드(A, B, C)의 고객 만족도 비교 (1~10점)"
      ],
      "metadata": {
        "id": "UFJlJKC6oNg1"
      }
    },
    {
      "cell_type": "code",
      "source": [
        "import numpy as np\n",
        "from scipy.stats import f_oneway\n",
        "\n",
        "np.random.seed(42)\n",
        "# 세 개 그룹의 데이터 (30명씩)\n",
        "brand_A = np.random.normal(loc=7, scale=1.5, size=30)\n",
        "brand_B = np.random.normal(loc=6, scale=1.5, size=30)\n",
        "brand_C = np.random.normal(loc=5, scale=1.5, size=30)\n",
        "\n",
        "# One-Way ANOVA\n",
        "stat, p = f_oneway(brand_A, brand_B, brand_C)\n",
        "\n",
        "# 결과 출력\n",
        "print(f\"F-통계량: {stat:.3f}\")\n",
        "print(f\"p-value: {p:.3f}\")"
      ],
      "metadata": {
        "colab": {
          "base_uri": "https://localhost:8080/"
        },
        "id": "Oh_FZaU1oQFQ",
        "outputId": "636cf27b-d25a-49e9-b09b-488986d283ca"
      },
      "execution_count": null,
      "outputs": [
        {
          "output_type": "stream",
          "name": "stdout",
          "text": [
            "F-통계량: 10.854\n",
            "p-value: 0.000\n"
          ]
        }
      ]
    },
    {
      "cell_type": "markdown",
      "source": [
        "결과 해석"
      ],
      "metadata": {
        "id": "eJQl_SmvoXRL"
      }
    },
    {
      "cell_type": "code",
      "source": [
        "if p > 0.05:\n",
        "    print(\"세 그룹 간 평균 차이가 없음 (p > 0.05, 귀무가설 유지)\")\n",
        "else:\n",
        "    print(\"세 그룹 간 평균 차이가 있음 (p < 0.05, 귀무가설 기각)\")"
      ],
      "metadata": {
        "colab": {
          "base_uri": "https://localhost:8080/"
        },
        "id": "TRfwYAzLoW7u",
        "outputId": "3f391cb3-c77e-423b-dcfd-ef3032ef1a72"
      },
      "execution_count": null,
      "outputs": [
        {
          "output_type": "stream",
          "name": "stdout",
          "text": [
            "세 그룹 간 평균 차이가 있음 (p < 0.05, 귀무가설 기각)\n"
          ]
        }
      ]
    },
    {
      "cell_type": "markdown",
      "source": [
        "#### 카이제곱검정"
      ],
      "metadata": {
        "id": "PZfLUowCk3ij"
      }
    },
    {
      "cell_type": "markdown",
      "source": [
        "성별(남/여)과 구매 여부(구매/비구매) 간의 관계 분석"
      ],
      "metadata": {
        "id": "ohUOdurQnuAI"
      }
    },
    {
      "cell_type": "markdown",
      "source": [
        "2x2 교차표 (contingency table) /\n",
        "행: 성별(남/여) /\n",
        "열: 구매 여부(구매/비구매)"
      ],
      "metadata": {
        "id": "FQ--1wEun82K"
      }
    },
    {
      "cell_type": "code",
      "source": [
        "import numpy as np\n",
        "import scipy.stats as stats\n",
        "\n",
        "data = np.array([[50, 30], # 남 (구매, 비구매)\n",
        "                 [20, 40]]) # 여 (구매, 비구매)\n",
        "\n",
        "# 카이제곱 검정 실행\n",
        "chi2, p, dof, expected = stats.chi2_contingency(data)\n",
        "\n",
        "# 결과 출력\n",
        "print(f\"카이제곱 통계량: {chi2:.3f}\")\n",
        "print(f\"p-value: {p:.3f}\")\n",
        "print(f\"자유도 (degrees of freedom): {dof}\")\n",
        "print(f\"기대값 (expected frequencies):\\n{expected}\")"
      ],
      "metadata": {
        "id": "3qfjQxSAk2Ii",
        "colab": {
          "base_uri": "https://localhost:8080/"
        },
        "outputId": "51188548-597e-4572-f89f-ea1bfb1db46e"
      },
      "execution_count": null,
      "outputs": [
        {
          "output_type": "stream",
          "name": "stdout",
          "text": [
            "카이제곱 통계량: 10.529\n",
            "p-value: 0.001\n",
            "자유도 (degrees of freedom): 1\n",
            "기대값 (expected frequencies):\n",
            "[[40. 40.]\n",
            " [30. 30.]]\n"
          ]
        }
      ]
    },
    {
      "cell_type": "markdown",
      "source": [
        "결과 해석"
      ],
      "metadata": {
        "id": "zhqUukjzobqq"
      }
    },
    {
      "cell_type": "code",
      "source": [
        "if p > 0.05:\n",
        "    print(\"성별과 구매 여부는 독립적임 (p > 0.05, 귀무가설 유지)\")\n",
        "else:\n",
        "    print(\"성별과 구매 여부는 관련이 있음 (p < 0.05, 귀무가설 기각)\")"
      ],
      "metadata": {
        "id": "My8sdVbNk506",
        "colab": {
          "base_uri": "https://localhost:8080/"
        },
        "outputId": "e3542770-2b4b-4cae-f817-aebd7fc1710b"
      },
      "execution_count": null,
      "outputs": [
        {
          "output_type": "stream",
          "name": "stdout",
          "text": [
            "성별과 구매 여부는 관련이 있음 (p < 0.05, 귀무가설 기각)\n"
          ]
        }
      ]
    },
    {
      "cell_type": "markdown",
      "source": [
        "#### 정규성 검정"
      ],
      "metadata": {
        "id": "topOOE81k6Uj"
      }
    },
    {
      "cell_type": "code",
      "source": [
        "import numpy as np\n",
        "from scipy import stats\n",
        "\n",
        "# 예제 데이터 (정규 분포 데이터)\n",
        "data = np.random.normal(loc=50, scale=10, size=100)\n",
        "\n",
        "# 샤피로-윌크 검정\n",
        "stat, p = stats.shapiro(data)\n",
        "print(f\"샤피로-윌크 검정 결과: W={stat:.3f}, p-value={p:.3f}\")\n",
        "\n",
        "# 정규성 판별\n",
        "if p > 0.05:\n",
        "    print(\"데이터가 정규성을 만족함 (p > 0.05)\")\n",
        "else:\n",
        "    print(\"데이터가 정규성을 따르지 않음 (p < 0.05)\")"
      ],
      "metadata": {
        "id": "WBNK8bPTk79H",
        "colab": {
          "base_uri": "https://localhost:8080/"
        },
        "outputId": "0e17b3e3-a709-4a50-e5e7-537d3596de90"
      },
      "execution_count": null,
      "outputs": [
        {
          "output_type": "stream",
          "name": "stdout",
          "text": [
            "샤피로-윌크 검정 결과: W=0.981, p-value=0.150\n",
            "데이터가 정규성을 만족함 (p > 0.05)\n"
          ]
        }
      ]
    },
    {
      "cell_type": "markdown",
      "source": [
        "#### 등분산 검정"
      ],
      "metadata": {
        "id": "PI9PLUOpk8av"
      }
    },
    {
      "cell_type": "code",
      "source": [
        "import numpy as np\n",
        "from scipy import stats\n",
        "\n",
        "# 두 그룹의 데이터 생성\n",
        "group1 = np.random.normal(50, 10, 100)\n",
        "group2 = np.random.normal(55, 15, 100)\n",
        "\n",
        "# Levene’s Test\n",
        "stat, p = stats.levene(group1, group2)\n",
        "print(f\"Levene’s 등분산 검정 결과: W={stat:.3f}, p-value={p:.3f}\")\n",
        "\n",
        "# 등분산 판별\n",
        "if p > 0.05:\n",
        "    print(\"두 그룹의 분산이 동일함 (p > 0.05)\")\n",
        "else:\n",
        "    print(\"두 그룹의 분산이 다름 (p < 0.05)\")"
      ],
      "metadata": {
        "id": "V1GtyapWk9wb",
        "colab": {
          "base_uri": "https://localhost:8080/"
        },
        "outputId": "c7535045-4c88-419c-a94d-073df5f743d4"
      },
      "execution_count": null,
      "outputs": [
        {
          "output_type": "stream",
          "name": "stdout",
          "text": [
            "Levene’s 등분산 검정 결과: W=1.931, p-value=0.166\n",
            "두 그룹의 분산이 동일함 (p > 0.05)\n"
          ]
        }
      ]
    },
    {
      "cell_type": "markdown",
      "source": [
        "## **2주차 과제**"
      ],
      "metadata": {
        "id": "EEu7WO7wk-zk"
      }
    },
    {
      "cell_type": "markdown",
      "source": [
        "### A, B, C 세 개의 브랜드에 대한 고객 만족도를 분석하여, 브랜드 간 평균 만족도 차이가 유의미한지 검정"
      ],
      "metadata": {
        "id": "UMRigS0clJMQ"
      }
    },
    {
      "cell_type": "markdown",
      "source": [
        "#### 데이터 생성"
      ],
      "metadata": {
        "id": "jJXl6tHhlWTH"
      }
    },
    {
      "cell_type": "code",
      "source": [],
      "metadata": {
        "id": "C4wWXJEqldNn"
      },
      "execution_count": null,
      "outputs": []
    },
    {
      "cell_type": "markdown",
      "source": [
        "#### 정규성 검정"
      ],
      "metadata": {
        "id": "7zq-mty6ldwx"
      }
    },
    {
      "cell_type": "code",
      "source": [],
      "metadata": {
        "id": "nCjbxwhClfmX"
      },
      "execution_count": null,
      "outputs": []
    },
    {
      "cell_type": "markdown",
      "source": [
        "#### 등분산 검정"
      ],
      "metadata": {
        "id": "3u9FdN4klgaM"
      }
    },
    {
      "cell_type": "code",
      "source": [],
      "metadata": {
        "id": "a_Yu6LiSlhr9"
      },
      "execution_count": null,
      "outputs": []
    },
    {
      "cell_type": "markdown",
      "source": [
        "#### 적절한 검정법 선택"
      ],
      "metadata": {
        "id": "ypn6_Uiyliav"
      }
    },
    {
      "cell_type": "code",
      "source": [],
      "metadata": {
        "id": "9ZOgdAiRlkap"
      },
      "execution_count": null,
      "outputs": []
    },
    {
      "cell_type": "markdown",
      "source": [
        "#### 정규성 만족하면 ANOVA 수행, 아니라면 Kruskal-Wallis Test 수행"
      ],
      "metadata": {
        "id": "myf1VKmPlk5a"
      }
    },
    {
      "cell_type": "code",
      "source": [],
      "metadata": {
        "id": "Z7rRna2Klohd"
      },
      "execution_count": null,
      "outputs": []
    },
    {
      "cell_type": "markdown",
      "source": [
        "#### 결과 해석"
      ],
      "metadata": {
        "id": "o2Fkms6glxbP"
      }
    },
    {
      "cell_type": "markdown",
      "source": [],
      "metadata": {
        "id": "wLz9Kmp8lz9q"
      }
    }
  ]
}